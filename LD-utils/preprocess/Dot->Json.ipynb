{
 "cells": [
  {
   "cell_type": "code",
   "execution_count": 4,
   "metadata": {},
   "outputs": [],
   "source": [
    "import networkx\n",
    "from networkx.readwrite import json_graph\n",
    "import pydot\n",
    "# !python -m pip install pydot"
   ]
  },
  {
   "cell_type": "code",
   "execution_count": 5,
   "metadata": {},
   "outputs": [],
   "source": [
    "def dot_to_json(file_in):\n",
    "    graph_netx = networkx.drawing.nx_pydot.read_dot(file_in)\n",
    "    graph_json = json_graph.node_link_data( graph_netx )\n",
    "    return json_graph.node_link_data(graph_netx)"
   ]
  },
  {
   "cell_type": "code",
   "execution_count": 9,
   "metadata": {},
   "outputs": [
    {
     "data": {
      "text/plain": [
       "{'directed': True,\n",
       " 'multigraph': True,\n",
       " 'graph': {'name': 'G'},\n",
       " 'nodes': [{'label': '\"\"', 'id': '1'},\n",
       "  {'label': '\"  br label %for.inc\"', 'id': '2'},\n",
       "  {'label': '\"  store float %6, float* %arrayidx8, align 4\\n  %6 = load float, float* %arrayidx6, align 4\\n  %arrayidx6 = getelementptr inbounds float, float* %vla3, i64 %idxprom5\\n  %idxprom5 = sext i32 %sub to i64\\n  %sub = sub nsw i32 %i.02, 1\\n  %arrayidx8 = getelementptr inbounds float, float* %vla, i64 %idxprom7\\n  %idxprom7 = sext i32 %i.02 to i64\"',\n",
       "   'id': '3'},\n",
       "  {'label': '\"  store float %call, float* %arrayidx, align 4\\n  %call = call float @fun(float* %vla1, float* %vla2, i32 %i.02)\\n  %arrayidx = getelementptr inbounds float, float* %vla3, i64 %idxprom\\n  %idxprom = sext i32 %i.02 to i64\"',\n",
       "   'id': '4'},\n",
       "  {'label': '\"  %i.02 = phi i32 [ 1, %entry ], [ %inc, %for.inc ]\"',\n",
       "   'id': '5'}],\n",
       " 'links': [{'label': '\"  rooted\"', 'source': '1', 'target': '5', 'key': 0},\n",
       "  {'label': '\"  rooted\"', 'source': '1', 'target': '4', 'key': 0},\n",
       "  {'label': '\"  rooted\"', 'source': '1', 'target': '3', 'key': 0},\n",
       "  {'label': '\"  rooted\"', 'source': '1', 'target': '2', 'key': 0}]}"
      ]
     },
     "execution_count": 9,
     "metadata": {},
     "output_type": "execute_result"
    }
   ],
   "source": [
    "dot_to_json('./dots/test2/RDG_main_Loop2.dot')"
   ]
  },
  {
   "cell_type": "code",
   "execution_count": null,
   "metadata": {},
   "outputs": [],
   "source": []
  }
 ],
 "metadata": {
  "kernelspec": {
   "display_name": "Python 3",
   "language": "python",
   "name": "python3"
  },
  "language_info": {
   "codemirror_mode": {
    "name": "ipython",
    "version": 3
   },
   "file_extension": ".py",
   "mimetype": "text/x-python",
   "name": "python",
   "nbconvert_exporter": "python",
   "pygments_lexer": "ipython3",
   "version": "3.6.7"
  }
 },
 "nbformat": 4,
 "nbformat_minor": 2
}
